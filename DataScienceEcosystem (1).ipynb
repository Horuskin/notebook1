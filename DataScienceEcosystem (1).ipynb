{
 "cells": [
  {
   "cell_type": "markdown",
   "id": "073b23fd-3942-4e34-a097-6ece48e630e8",
   "metadata": {},
   "source": [
    "# Data Science Tools and Ecosystem\n",
    "\n"
   ]
  },
  {
   "cell_type": "markdown",
   "id": "adb51fbf-de48-448b-a630-0329cc298865",
   "metadata": {},
   "source": [
    "In this notebook, Data Science Tools and Ecosystem are summarized. "
   ]
  },
  {
   "cell_type": "markdown",
   "id": "f8d4d391-719c-41fa-9475-94c63f04234e",
   "metadata": {
    "tags": []
   },
   "source": [
    "### Objectives:\n",
    ">1. Popular languages used by Data Scientists\n",
    ">2. Libraries commonly used by Data Scientists\n",
    ">3. Look at some Data sciene tools\n",
    ">4. Evaluating arithmetic expressions using python\n"
   ]
  },
  {
   "cell_type": "markdown",
   "id": "38b9d950-832b-45ea-8182-9277a722326c",
   "metadata": {
    "tags": []
   },
   "source": [
    "Some of the popular languages that Data Scientists use are:"
   ]
  },
  {
   "cell_type": "markdown",
   "id": "7086cb9d-3422-430d-8990-9e5f4a2120ed",
   "metadata": {
    "tags": []
   },
   "source": [
    "1. Julia\n",
    "2. Python\n",
    "3. R"
   ]
  },
  {
   "cell_type": "markdown",
   "id": "9c9f6520-42a3-4be6-bb7e-8f635ad19df4",
   "metadata": {},
   "source": [
    "Some of the commonly used libraries used by Data Scientists include:\n",
    "1. pandas\n",
    "2. Numpy\n",
    "3. Matplotlib"
   ]
  },
  {
   "cell_type": "markdown",
   "id": "cfd8bb5d-b160-4059-b6a6-1f23c5b15c3d",
   "metadata": {
    "tags": []
   },
   "source": [
    "|Data Science Tools|\n",
    "|:----------------:|\n",
    "|Jupyter notebook  |\n",
    "|Google Colab      |\n",
    "|Rstudio          |"
   ]
  },
  {
   "cell_type": "markdown",
   "id": "04679196-f150-43cb-b1b9-0a48410f7362",
   "metadata": {},
   "source": [
    "\n",
    "### Below are a few examples of evaluating arithmetic expressions in Python: \n"
   ]
  },
  {
   "cell_type": "code",
   "execution_count": 7,
   "id": "83f59423-4656-4420-a3a5-622c4bd48f0b",
   "metadata": {
    "tags": []
   },
   "outputs": [
    {
     "name": "stdout",
     "output_type": "stream",
     "text": [
      "17\n"
     ]
    }
   ],
   "source": [
    "(3*4)+5\n",
    "val1=3\n",
    "val2=4\n",
    "val3=5\n",
    "res = (val1*val2)+val3\n",
    "print(res)\n",
    "# This a simple arithmetic expression to mutiply then add integers"
   ]
  },
  {
   "cell_type": "code",
   "execution_count": 11,
   "id": "7dde74cb-58d9-412a-9359-b537e2952c80",
   "metadata": {
    "tags": []
   },
   "outputs": [
    {
     "name": "stdout",
     "output_type": "stream",
     "text": [
      "3.3333333333333335\n"
     ]
    }
   ],
   "source": [
    "Minutes=200\n",
    "Hour=Minutes/60\n",
    "print(Hour)\n",
    "# This will convert 200 minutes to hours by diving by 60"
   ]
  },
  {
   "cell_type": "markdown",
   "id": "f18efa84-dca6-4a6d-91f0-adde419cbd29",
   "metadata": {},
   "source": [
    "## Author\n",
    "Jean-Praise Agbali"
   ]
  },
  {
   "cell_type": "code",
   "execution_count": null,
   "id": "38294bef-5e11-4d99-a7d4-b5dd3f9f4533",
   "metadata": {},
   "outputs": [],
   "source": []
  }
 ],
 "metadata": {
  "kernelspec": {
   "display_name": "Python",
   "language": "python",
   "name": "conda-env-python-py"
  },
  "language_info": {
   "codemirror_mode": {
    "name": "ipython",
    "version": 3
   },
   "file_extension": ".py",
   "mimetype": "text/x-python",
   "name": "python",
   "nbconvert_exporter": "python",
   "pygments_lexer": "ipython3",
   "version": "3.7.12"
  }
 },
 "nbformat": 4,
 "nbformat_minor": 5
}
